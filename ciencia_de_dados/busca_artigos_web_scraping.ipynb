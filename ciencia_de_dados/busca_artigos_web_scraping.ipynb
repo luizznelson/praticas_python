{
  "nbformat": 4,
  "nbformat_minor": 0,
  "metadata": {
    "colab": {
      "provenance": []
    },
    "kernelspec": {
      "name": "python3",
      "display_name": "Python 3"
    },
    "language_info": {
      "name": "python"
    }
  },
  "cells": [
    {
      "cell_type": "code",
      "execution_count": null,
      "metadata": {
        "id": "_PtlwdG22Zqa"
      },
      "outputs": [],
      "source": [
        "!pip install bs4"
      ]
    },
    {
      "cell_type": "code",
      "source": [
        "!pip install requests"
      ],
      "metadata": {
        "id": "uAZlbY522ej3"
      },
      "execution_count": null,
      "outputs": []
    },
    {
      "cell_type": "code",
      "source": [
        "import requests"
      ],
      "metadata": {
        "id": "jWvraTka2n1q"
      },
      "execution_count": null,
      "outputs": []
    },
    {
      "cell_type": "code",
      "source": [
        "from bs4 import BeautifulSoup"
      ],
      "metadata": {
        "id": "TPR9f8pa2qiO"
      },
      "execution_count": null,
      "outputs": []
    },
    {
      "cell_type": "code",
      "source": [
        "url = 'https://dl.acm.org/action/doSearch?AllField=Abstract%3A%28%28energy%29+AND+%28%28microservices%29+OR+%28container%29%29%29&rel=nofollow&ContentItemType=research-article&startPage=0&pageSize=50'\n",
        "\n",
        "headers = {\n",
        "    'User-Agent': \"Mozilla/5.0 (X11; Linux x86_64) AppleWebKit/537.36 (KHTML, like Gecko) Chrome/107.0.0.0 Safari/537.36\"\n",
        "}\n",
        "\n",
        "site = requests.get(url, headers=headers)\n",
        "soup = BeautifulSoup(site.content, 'html.parser')"
      ],
      "metadata": {
        "id": "bhBEj-z82trr"
      },
      "execution_count": null,
      "outputs": []
    },
    {
      "cell_type": "code",
      "source": [
        "artigos_dict = {}\n",
        "links = []\n",
        "titulos = []\n",
        "anos = []\n",
        "\n",
        "for i in range(0, 16):\n",
        "  url = f'https://dl.acm.org/action/doSearch?AllField=Abstract%3A%28%28energy%29+AND+%28%28microservices%29+OR+%28container%29%29%29&rel=nofollow&ContentItemType=research-article&startPage={i}&pageSize=50'\n",
        "  site = requests.get(url, headers=headers)\n",
        "  soup = BeautifulSoup(site.content, 'html.parser')\n",
        "  artigos = (soup.find_all('span', class_='hlFld-Title'))\n",
        "  anos_arts = soup.find_all('div', class_='bookPubDate simple-tooltip__block--b')\n",
        "\n",
        "  for artigo in artigos:\n",
        "    link = artigo.find('a').get('href')\n",
        "    titulo = artigo.find('a').get_text()\n",
        "\n",
        "    links.append('https://dl.acm.org' + link)\n",
        "    titulos.append(titulo)\n",
        "\n",
        "  for ano_art in anos_arts:\n",
        "\n",
        "    ano = ano_art.get_text()\n",
        "\n",
        "    num_ano = []\n",
        "    for i in range(0, len(ano)):\n",
        "      if ano[i].isdigit():\n",
        "        num_ano.append(ano[i])\n",
        "\n",
        "    numero_ano = int(\"\".join(map(str, num_ano)))\n",
        "    anos.append(numero_ano)\n",
        "\n",
        "artigos_dict['Título'] = titulos\n",
        "artigos_dict['Link'] = links\n",
        "artigos_dict['Ano de Publicação'] = anos\n",
        "      "
      ],
      "metadata": {
        "id": "N6G9PjPh9voj"
      },
      "execution_count": null,
      "outputs": []
    },
    {
      "cell_type": "code",
      "source": [
        "print(titulos)"
      ],
      "metadata": {
        "id": "NKmNtmvFXeZ8"
      },
      "execution_count": null,
      "outputs": []
    },
    {
      "cell_type": "code",
      "source": [
        "import pandas as pd"
      ],
      "metadata": {
        "id": "hBbYWy0-6YIg"
      },
      "execution_count": null,
      "outputs": []
    },
    {
      "cell_type": "code",
      "source": [
        "dados = pd.DataFrame(data = artigos_dict)"
      ],
      "metadata": {
        "id": "FHnYXGxDJu_8"
      },
      "execution_count": null,
      "outputs": []
    },
    {
      "cell_type": "code",
      "source": [
        "dados.to_excel('artigos_acm.xls', index = False)\n"
      ],
      "metadata": {
        "colab": {
          "base_uri": "https://localhost:8080/"
        },
        "id": "Pp-vvd9TKwmr",
        "outputId": "2fb48de3-73f7-40f1-9c0f-50fcb3fdb210"
      },
      "execution_count": null,
      "outputs": [
        {
          "output_type": "stream",
          "name": "stderr",
          "text": [
            "/usr/local/lib/python3.7/dist-packages/ipykernel_launcher.py:1: FutureWarning: As the xlwt package is no longer maintained, the xlwt engine will be removed in a future version of pandas. This is the only engine in pandas that supports writing in the xls format. Install openpyxl and write to an xlsx file instead. You can set the option io.excel.xls.writer to 'xlwt' to silence this warning. While this option is deprecated and will also raise a warning, it can be globally set and the warning suppressed.\n",
            "  \"\"\"Entry point for launching an IPython kernel.\n"
          ]
        }
      ]
    }
  ]
}