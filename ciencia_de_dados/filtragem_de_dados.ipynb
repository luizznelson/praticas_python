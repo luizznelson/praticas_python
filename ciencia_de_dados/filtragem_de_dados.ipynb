{
  "nbformat": 4,
  "nbformat_minor": 0,
  "metadata": {
    "colab": {
      "provenance": []
    },
    "kernelspec": {
      "name": "python3",
      "display_name": "Python 3"
    },
    "language_info": {
      "name": "python"
    }
  },
  "cells": [
    {
      "cell_type": "code",
      "execution_count": null,
      "metadata": {
        "id": "vwpE_1Qi8hpR"
      },
      "outputs": [],
      "source": [
        "from google.colab import auth\n",
        "auth.authenticate_user()\n",
        "\n",
        "import gspread\n",
        "from google.auth import default\n",
        "creds, _ = default()\n",
        "\n",
        "gc = gspread.authorize(creds)"
      ]
    },
    {
      "cell_type": "code",
      "source": [
        "spreasheet = gc.open('Levantamento_Inicial_Mapping_Microservices')"
      ],
      "metadata": {
        "id": "LaiN4984-Qjo"
      },
      "execution_count": null,
      "outputs": []
    },
    {
      "cell_type": "code",
      "source": [
        "page = spreasheet.get_worksheet(2)"
      ],
      "metadata": {
        "id": "S7mG3UuJ-cbb"
      },
      "execution_count": null,
      "outputs": []
    },
    {
      "cell_type": "code",
      "source": [
        "print(page)"
      ],
      "metadata": {
        "colab": {
          "base_uri": "https://localhost:8080/"
        },
        "id": "4sssGdUb0l0B",
        "outputId": "bf1b05b7-65cd-4ff7-a384-10f47c3821aa"
      },
      "execution_count": null,
      "outputs": [
        {
          "output_type": "stream",
          "name": "stdout",
          "text": [
            "<Worksheet 'Busca Atualizada' id:799714148>\n"
          ]
        }
      ]
    },
    {
      "cell_type": "code",
      "source": [
        "import pandas"
      ],
      "metadata": {
        "id": "q064wCfB-kLU"
      },
      "execution_count": null,
      "outputs": []
    },
    {
      "cell_type": "code",
      "source": [
        "artigos = pandas.DataFrame(page.get_all_records())"
      ],
      "metadata": {
        "id": "NdsQlHYb-yaj"
      },
      "execution_count": null,
      "outputs": []
    },
    {
      "cell_type": "code",
      "source": [
        "artigos_filt2 = artigos.loc[(artigos['TÍTULO DOS TRABALHOS'].str.contains('Mapping') | artigos['TÍTULO DOS TRABALHOS'].str.contains('mapping') | artigos['TÍTULO DOS TRABALHOS'].str.contains('survey') | artigos['TÍTULO DOS TRABALHOS'].str.contains('Survey') | artigos['TÍTULO DOS TRABALHOS'].str.contains('review') | artigos['TÍTULO DOS TRABALHOS'].str.contains('Review') | artigos['TÍTULO DOS TRABALHOS'].str.contains('research') | artigos['TÍTULO DOS TRABALHOS'].str.contains('Research'))]"
      ],
      "metadata": {
        "id": "TU7TXoOnQikH"
      },
      "execution_count": null,
      "outputs": []
    },
    {
      "cell_type": "code",
      "source": [
        "artigos_novos2 = spreasheet.add_worksheet('Filtragem - Artigos de revisão', rows=len(artigos_filt2), cols=5)"
      ],
      "metadata": {
        "id": "dSbLMPvQRtAE"
      },
      "execution_count": null,
      "outputs": []
    },
    {
      "cell_type": "code",
      "source": [
        "artigos2 = pandas.DataFrame(artigos_novos2.get_all_records())"
      ],
      "metadata": {
        "id": "PARsZ-vfSjHo"
      },
      "execution_count": null,
      "outputs": []
    },
    {
      "cell_type": "code",
      "source": [
        "artigos_novos2.update([artigos_filt2.columns.values.tolist()] + artigos_filt2.values.tolist())"
      ],
      "metadata": {
        "colab": {
          "base_uri": "https://localhost:8080/"
        },
        "id": "bA5aYXTUZMUG",
        "outputId": "dabf35bf-bf1f-4519-8ea6-161b5d21007c"
      },
      "execution_count": null,
      "outputs": [
        {
          "output_type": "execute_result",
          "data": {
            "text/plain": [
              "{'spreadsheetId': '1xoBMMmWznSJahV_kcmbHflix2Due1lW0UnRQ1TFYV94',\n",
              " 'updatedRange': \"'Filtragem - Artigos de revisão'!A1:F118\",\n",
              " 'updatedRows': 118,\n",
              " 'updatedColumns': 6,\n",
              " 'updatedCells': 708}"
            ]
          },
          "metadata": {},
          "execution_count": 94
        }
      ]
    }
  ]
}